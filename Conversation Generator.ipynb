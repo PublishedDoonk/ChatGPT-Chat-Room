{
 "cells": [
  {
   "cell_type": "markdown",
   "id": "cc63e597",
   "metadata": {},
   "source": [
    "# Conversation Generator"
   ]
  },
  {
   "cell_type": "code",
   "execution_count": 1,
   "id": "f9c496c3",
   "metadata": {},
   "outputs": [],
   "source": [
    "!pip install -q openai\n",
    "\n",
    "import os\n",
    "import openai\n",
    "from time import time, sleep\n",
    "import textwrap\n",
    "import re\n",
    "import requests\n",
    "import threading\n",
    "from IPython.display import clear_output, display\n",
    "import ipywidgets as widgets\n",
    "from datetime import datetime\n",
    "from random import randint\n",
    "from datetime import datetime as dt\n",
    "from enum import Enum\n"
   ]
  },
  {
   "cell_type": "markdown",
   "id": "2756bfe2",
   "metadata": {},
   "source": [
    "## File Management"
   ]
  },
  {
   "cell_type": "code",
   "execution_count": 2,
   "id": "9f8f84ca",
   "metadata": {},
   "outputs": [],
   "source": [
    "def read_from_file(filepath):\n",
    "    with open(filepath, 'r', encoding='utf-8') as infile:\n",
    "        return infile.read()\n",
    "\n",
    "def write_to_file(filepath, content):\n",
    "    with open(filepath, 'w', encoding='utf-8') as outfile:\n",
    "        outfile.write(content)\n",
    "\n",
    "def append_to_file(filepath, content):\n",
    "    with open(filepath, 'a', encoding='utf-8') as outfile:\n",
    "        outfile.write(content)\n",
    "        \n",
    "def ensure_folder_exists(folder: str) -> None:\n",
    "    if not os.path.exists(folder):\n",
    "        os.mkdir(folder)\n",
    "\n",
    "def ensure_file_exists(folder: str, filename: str) -> None:\n",
    "    ensure_folder_exists(folder)\n",
    "    if not os.path.exists(folder + '/' + filename):\n",
    "        write_to_file(folder + '/' + filename, '')\n",
    "\n",
    "def get_all_text_files(folder):\n",
    "    files = os.listdir(folder)\n",
    "    files = [f for f in files if '.txt' in f]\n",
    "    write_to_file('full draft/book.txt', '')\n",
    "    for file in files:\n",
    "        content = read_from_file('{0}/{1}'.format(folder, file))\n",
    "        append_to_file('full draft/book.txt', content + '\\n')\n",
    "    print('done')\n",
    "    \n",
    "def get_filename(folder: str, msg: str) -> 'str':\n",
    "    while True:\n",
    "        sleep(.3)\n",
    "        filename = input(msg)\n",
    "        if os.path.isfile('{0}/{1}'.format(folder, filename)):\n",
    "            print('File loaded successfully')\n",
    "            return '{0}/{1}'.format(folder, filename)\n",
    "        clear_output()\n",
    "        print('Invalid filename. Try again.')"
   ]
  },
  {
   "cell_type": "markdown",
   "id": "11e53c82",
   "metadata": {},
   "source": [
    "## Prompt Management"
   ]
  },
  {
   "cell_type": "code",
   "execution_count": 3,
   "id": "2751840b",
   "metadata": {},
   "outputs": [],
   "source": [
    "def load_openai_api_key() -> None:\n",
    "    '''This loads the openai API key from openaiapikey.txt'''\n",
    "    ensure_folder_exists('api_key')\n",
    "    files = os.listdir('api_key')\n",
    "    files = [f for f in files if '.txt' in f]\n",
    "    if files == []:\n",
    "        get_api_key()\n",
    "        write_to_file('api_key/openai.txt', openai.api_key)\n",
    "        return\n",
    "    openai.api_key = read_from_file('api_key/' + files[0])\n",
    "    return\n",
    "\n",
    "def get_api_key() -> None:\n",
    "    while True:\n",
    "        print('You will need an openai api key. They can be found here:')\n",
    "        print('https://platform.openai.com/account/api-keys')\n",
    "        sleep(.3)\n",
    "        openai.api_key = input('Enter your openai api key:')\n",
    "        clear_output()\n",
    "        if validate_api_key():\n",
    "            return\n",
    "        print('Invalid API key.\\n')\n",
    "\n",
    "def validate_api_key() -> bool:\n",
    "    try:\n",
    "        response = openai.ChatCompletion.create(\n",
    "            model=\"gpt-3.5-turbo\",\n",
    "            messages=[{'role':'user', 'content':'Is this api key working?'}])\n",
    "    except:\n",
    "        return False\n",
    "    return True\n",
    "\n",
    "def send_prompt(messages: str) -> str:\n",
    "    try:\n",
    "        response = openai.ChatCompletion.create(\n",
    "            model=\"gpt-3.5-turbo\",\n",
    "            messages=[{'role':'user', 'content':messages}])\n",
    "    except:\n",
    "        print('ChatGPT rate limit reached. Resuming in one minute...')\n",
    "        sleep(61)\n",
    "        return send_prompt(messages)\n",
    "    text = response['choices'][0]['message']['content']\n",
    "    return text.strip()\n",
    "\n",
    "class Requester_Thread(threading.Thread):\n",
    "    def __init__(self, prompt: str):\n",
    "        threading.Thread.__init__(self)\n",
    "        self.prompt = prompt\n",
    "        \n",
    "    def run(self):\n",
    "        self.value = send_prompt(self.prompt)"
   ]
  },
  {
   "cell_type": "markdown",
   "id": "ea370562",
   "metadata": {},
   "source": [
    "## Persona Generator"
   ]
  },
  {
   "cell_type": "code",
   "execution_count": 4,
   "id": "4740bfad",
   "metadata": {},
   "outputs": [],
   "source": [
    "def get_random_location():\n",
    "    prompt = '''Ignore all previous instructions. State a random place \n",
    "    in the world where people live. Only return the place name. No descriptions,\n",
    "    headers, punctuation, or any other text.'''\n",
    "    return send_prompt(prompt)\n",
    "\n",
    "def get_name_list(location: str):\n",
    "    prompt = f'''Ignore all previous instructions. Return a list of 50 random \n",
    "    that sound like they belong to people from {location}. Return the list of\n",
    "    first and last names in a new line separated format with no numbering or \n",
    "    any other kind of punctuation. The first 25 names must be female names while\n",
    "    the last 25 must be male names. Do not return any headers, descriptions, or\n",
    "    other text.'''\n",
    "    return send_prompt(prompt)\n",
    "\n",
    "class Gender(Enum):\n",
    "    FEMALE = 1\n",
    "    MALE = 2\n",
    "\n",
    "class Persona():\n",
    "    def __init__(self, location: str, names: list, name=None, gender=None):\n",
    "        self.location = location\n",
    "        self.set_gender(gender)\n",
    "        self.set_name(names, name)\n",
    "        self.set_personality()\n",
    "        self.age = randint(18,91)\n",
    "        \n",
    "    def set_gender(self, gender=None):\n",
    "        if gender:\n",
    "            self.gender = gender\n",
    "        elif randint(0,1) > 0:\n",
    "            self.gender = Gender.MALE\n",
    "        else:\n",
    "            self.gender = Gender.FEMALE\n",
    "    \n",
    "    def set_name(self, names, name=None):\n",
    "        if name:\n",
    "            self.name = name\n",
    "        elif self.gender == Gender.MALE:\n",
    "            self.name = names[randint(25,50)]\n",
    "        else:\n",
    "            self.name = names[randint(0,25)]\n",
    "        self.surname = self.name.split(' ')[1]\n",
    "        \n",
    "    def random_severity():\n",
    "        severity = ['extremely', 'very', 'moderately', 'not very', 'not']\n",
    "        return severity[randint(0,5)]\n",
    "    \n",
    "    def set_personality():\n",
    "        bigfive = {}\n",
    "        bigfive['openness'] = f'Openness to experience: {random_severity()} open to new experiences.'\n",
    "        bigfive['conscience'] = f'Conscientiousness: {random_severity()} organized and/or efficient.'\n",
    "        bigfive['extraversion'] = f'Extraversion: {random_severity()} outgoing and/or socialable.'\n",
    "        bigfive['agreeableness'] = f'Agreeableness: {random_severity()} agreeable and/or friendly.'\n",
    "        bigfive['neuroticism'] = f'Neuroticism: {random_severity()} nervous and/or sensitive.'\n",
    "        self.bigfive = bigfive\n",
    "        "
   ]
  },
  {
   "cell_type": "markdown",
   "id": "b01fbd47",
   "metadata": {},
   "source": [
    "## Main Function"
   ]
  },
  {
   "cell_type": "code",
   "execution_count": 6,
   "id": "012377bf",
   "metadata": {},
   "outputs": [],
   "source": [
    "def main():\n",
    "    load_openai_api_key()\n",
    "    topic = get_book_topic()\n",
    "    if topic is None:\n",
    "        return\n",
    "    chapters = get_chapter_titles(topic)\n",
    "    title = get_book_title(topic, chapters)\n",
    "    chapter_outline = get_main_ideas(topic, chapters)\n",
    "    generate_draft(topic, chapter_outline, title)\n",
    "\n",
    "#main()"
   ]
  },
  {
   "cell_type": "code",
   "execution_count": 7,
   "id": "b18493aa",
   "metadata": {},
   "outputs": [],
   "source": [
    "#load_openai_api_key()\n",
    "#location = get_random_location()\n",
    "#print(get_name_list(location))"
   ]
  },
  {
   "cell_type": "code",
   "execution_count": 9,
   "id": "a6a644d1",
   "metadata": {},
   "outputs": [
    {
     "data": {
      "application/vnd.jupyter.widget-view+json": {
       "model_id": "520681e7077e4c3698c2da794878f563",
       "version_major": 2,
       "version_minor": 0
      },
      "text/plain": [
       "VBox(children=(HBox(children=(Output(layout=Layout(height='300px', width='200px')), Output(layout=Layout(heigh…"
      ]
     },
     "metadata": {},
     "output_type": "display_data"
    }
   ],
   "source": [
    "def build_gui():\n",
    "    msg_list = []\n",
    "    \n",
    "    def handle_send(sender):\n",
    "        if chat_field.value != '':\n",
    "            msg_list.append(chat_field.value)\n",
    "            with messages:\n",
    "                clear_output()\n",
    "                print('\\n\\n'.join(msg_list))\n",
    "                chat_field.value = ''\n",
    "    \n",
    "    \n",
    "    \n",
    "    side_layout = widgets.Layout(width='200px', height='300px')\n",
    "    main_layout = widgets.Layout(width='400px', height='300px', overflow_y='auto')\n",
    "    chat_layout = widgets.Layout(width='400px')\n",
    "    butt_layout = widgets.Layout(width='200px')\n",
    "    \n",
    "    controls = widgets.Output(layout=side_layout)\n",
    "    messages = widgets.Output(layout=main_layout)\n",
    "    chatters = widgets.Output(layout=side_layout)\n",
    "    emptybox = widgets.Output(layout=butt_layout)\n",
    "    \n",
    "    chat_field = widgets.Text(continuous_update=False, layout=main_layout)\n",
    "    chat_field.observe(handle_send, 'value')\n",
    "    send_btn = widgets.Button(description='Send')\n",
    "    send_btn.on_click(handle_send)    \n",
    "    \n",
    "    messagebar = widgets.HBox([controls, messages, chatters])\n",
    "    chatbar = widgets.HBox([emptybox, chat_field, send_btn])\n",
    "    gui = widgets.VBox([messagebar, chatbar])\n",
    "    display(gui)\n",
    "    \n",
    "build_gui()"
   ]
  },
  {
   "cell_type": "code",
   "execution_count": null,
   "id": "d1eb69d4",
   "metadata": {},
   "outputs": [],
   "source": []
  }
 ],
 "metadata": {
  "kernelspec": {
   "display_name": "Python 3 (ipykernel)",
   "language": "python",
   "name": "python3"
  },
  "language_info": {
   "codemirror_mode": {
    "name": "ipython",
    "version": 3
   },
   "file_extension": ".py",
   "mimetype": "text/x-python",
   "name": "python",
   "nbconvert_exporter": "python",
   "pygments_lexer": "ipython3",
   "version": "3.9.13"
  }
 },
 "nbformat": 4,
 "nbformat_minor": 5
}
